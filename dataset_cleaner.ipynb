{
 "cells": [
  {
   "cell_type": "code",
   "execution_count": 9,
   "id": "0aeb54af-8e72-449e-b266-2334bd9a129f",
   "metadata": {},
   "outputs": [
    {
     "name": "stdout",
     "output_type": "stream",
     "text": [
      "Starting data cleaning process for 'op060825.csv'...\n",
      "Successfully loaded 'op060825.csv'. Found 28659 total contracts.\n",
      "Filtered down to 1527 contracts for symbol 'NIFTY'.\n",
      "Finished cleaning. 904 valid, tradable contracts remaining.\n",
      "Successfully saved cleaned data to 'cleaned_nifty_options.csv'.\n"
     ]
    }
   ],
   "source": [
    "import pandas as pd\n",
    "import re\n",
    "from datetime import datetime\n",
    "\n",
    "def clean_nse_options_data(input_filename='op060825.csv', output_filename='cleaned_nifty_options.csv', target_symbol='NIFTY'):\n",
    "   \n",
    "    print(f\"Starting data cleaning process for '{input_filename}'...\")\n",
    "\n",
    "    try:\n",
    "        df = pd.read_csv(input_filename)\n",
    "        print(f\"Successfully loaded '{input_filename}'. Found {len(df)} total contracts.\")\n",
    "\n",
    "        # Step 1: Extract Symbol and Filter\n",
    "        def extract_symbol(contract_name):\n",
    "            prefix = 'OPTSTK' if contract_name.startswith('OPTSTK') else 'OPTIDX'\n",
    "            prefix_len = len(prefix)\n",
    "            match = re.search(r'\\d', contract_name[prefix_len:])\n",
    "            if match:\n",
    "                end_index = match.start()\n",
    "                return contract_name[prefix_len:prefix_len + end_index]\n",
    "            return None\n",
    "\n",
    "        df['SYMBOL'] = df['CONTRACT_D'].apply(extract_symbol)\n",
    "        \n",
    "        options_df = df[df['SYMBOL'] == target_symbol].copy()\n",
    "        print(f\"Filtered down to {len(options_df)} contracts for symbol '{target_symbol}'.\")\n",
    "\n",
    "        if options_df.empty:\n",
    "            print(f\"Error: No contracts found for symbol '{target_symbol}'. Please check the input file.\")\n",
    "            return\n",
    "\n",
    "        # Step 2: Parse Contract Details \n",
    "        def parse_contract_details(contract_name):\n",
    "            pattern = r'(\\d{2}-[A-Z]{3}-\\d{4})(CE|PE)([0-9\\.]+)$'\n",
    "            match = re.search(pattern, contract_name)\n",
    "            if match:\n",
    "                expiry_date_str = match.group(1)\n",
    "                option_type = 'call' if match.group(2) == 'CE' else 'put'\n",
    "                strike_price = float(match.group(3))\n",
    "                return expiry_date_str, strike_price, option_type\n",
    "            return None, None, None\n",
    "        parsed_results = options_df['CONTRACT_D'].apply(parse_contract_details)\n",
    "        options_df[['Expiry_Date_Str', 'Strike_Price', 'Option_Type']] = pd.DataFrame(parsed_results.tolist(), index=options_df.index)\n",
    "        \n",
    "        #Step 3: Cleaning and Formatting\n",
    "        options_df.rename(columns={\n",
    "            'CLOSE_PRIC': 'Market_Price',\n",
    "            'UNDRLNG_ST': 'Spot_Price',\n",
    "            'TRADED_QUA': 'Volume',\n",
    "            'OI_NO_CON': 'Open_Interest'\n",
    "        }, inplace=True)\n",
    "\n",
    "        options_df['Expiry_Date'] = pd.to_datetime(options_df['Expiry_Date_Str'], format='%d-%b-%Y', errors='coerce')\n",
    "        \n",
    "        final_df = options_df[[\n",
    "            'Expiry_Date', 'Strike_Price', 'Option_Type', 'Spot_Price',\n",
    "            'Market_Price', 'Volume', 'Open_Interest'\n",
    "        ]].copy()\n",
    "\n",
    "        final_df.dropna(subset=['Market_Price', 'Strike_Price', 'Expiry_Date'], inplace=True)\n",
    "        \n",
    "        final_df = final_df[final_df['Volume'] > 0]\n",
    "        \n",
    "        print(f\"Finished cleaning. {len(final_df)} valid, tradable contracts remaining.\")\n",
    "\n",
    "        final_df.to_csv(output_filename, index=False)\n",
    "        print(f\"Successfully saved cleaned data to '{output_filename}'.\")\n",
    "\n",
    "    except FileNotFoundError:\n",
    "        print(f\"Error: The file '{input_filename}' was not found.\")\n",
    "    except Exception as e:\n",
    "        print(f\"An unexpected error occurred: {e}\")\n",
    "\n",
    "if __name__ == \"__main__\":\n",
    "    clean_nse_options_data()\n"
   ]
  },
  {
   "cell_type": "code",
   "execution_count": null,
   "id": "3160353d-b637-4dbc-8a20-406424c4f232",
   "metadata": {},
   "outputs": [],
   "source": []
  }
 ],
 "metadata": {
  "kernelspec": {
   "display_name": "Python 3 (ipykernel)",
   "language": "python",
   "name": "python3"
  },
  "language_info": {
   "codemirror_mode": {
    "name": "ipython",
    "version": 3
   },
   "file_extension": ".py",
   "mimetype": "text/x-python",
   "name": "python",
   "nbconvert_exporter": "python",
   "pygments_lexer": "ipython3",
   "version": "3.13.2"
  }
 },
 "nbformat": 4,
 "nbformat_minor": 5
}
